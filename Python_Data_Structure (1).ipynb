{
  "nbformat": 4,
  "nbformat_minor": 0,
  "metadata": {
    "colab": {
      "provenance": []
    },
    "kernelspec": {
      "name": "python3",
      "display_name": "Python 3"
    },
    "language_info": {
      "name": "python"
    }
  },
  "cells": [
    {
      "cell_type": "markdown",
      "source": [
        "#   ------   Python - Data Structure   ------  "
      ],
      "metadata": {
        "id": "7bnzdZN0WdR4"
      }
    },
    {
      "cell_type": "markdown",
      "source": [
        "1. What are data structures, and why are they important?\n",
        "   - The way of organizing and storing data so that it can be accessed and manipulated efficiently.\n",
        "   In data structure there are -\n",
        "   a)String\n",
        "   b)List\n",
        "   c)Set\n",
        "   d)Tuples\n",
        "   e)Dictionary\n",
        "\n",
        "2. Explain the difference between mutable and immutable data types  \n",
        "   with examples.\n",
        "   - a) Mutable Data Types:\n",
        "\n",
        "   - Definition: Mutable data types allow their content to be changed  \n",
        "    or modified after they are created.\n",
        "\n",
        "   - Examples:\n",
        "    Lists in Python: You can add, remove, or modify elements.\n",
        "\n",
        "    my_list = [1, 2, 3]\n",
        "    my_list[0] = 10  # Change the first element\n",
        "    my_list.append(4)  # Add a new element\n",
        "    print(my_list)  \n",
        "\n",
        "    # Output: [10, 2, 3, 4]\n",
        "\n",
        "   - b) Immutable Data Types:\n",
        "\n",
        "   - Definition: Immutable data types do not allow their content to be changed after they are created. If you attempt to modify the data, a new object is created instead.\n",
        "\n",
        "   - Examples:\n",
        "    Tuples: You cannot change or modify the elements of a tuple after creation.\n",
        "\n",
        "    my_tuple = (1, 2, 3)\n",
        "    # my_tuple[0] = 10  # This will raise an error\n",
        "    print(my_tuple)\n",
        "\n",
        "    # Output: (1, 2, 3)\n",
        "\n",
        "3. What are the main differences between lists and tuples in Python?\n",
        "   - List : a) It is mutable\n",
        "            b) It can be store more memory and also heterogenous of type meanes it can store any type of data\n",
        "            c) Here we use \" [] \"\n",
        "\n",
        "   - Tuple : a) It is immutable\n",
        "             b) It can be store homogenous data type\n",
        "             c) Here we use \" () \"\n",
        "\n",
        "4. Describe how dictionaries store data.\n",
        "   - Dictionaries in Python store data as key-value pairs, where each key is unique and maps to a specific value. They are implemented using a hash table internally, which allows for fast lookups, insertions, and deletions.\n",
        "\n",
        "5. Why might you use a set instead of a list in Python?\n",
        "   - a) Because set enforces uniqueness—duplicate values  are not allowed. If we want to ensure that our collection contains only unique elements it is the best choice.\n",
        "   b)Set provides O(1) average time complexity for checking if an element exists.\n",
        "\n",
        "6. What is a string in Python, and how is it different from a list?\n",
        "   - a) Definition of string : A string is a sequence of character,which represent and manipulate textual data.\n",
        "\n",
        "   -b)\n",
        "     String vs List :\n",
        "   \n",
        "    String is enclosed in single (') or double (\") quotes. Strings are immutable, which means their content cannot be changed after they are created.\n",
        "\n",
        "   - List is enclosed in \" [] \" . Lists are mutable , which means their content  can be changed after they are created.\n",
        "\n",
        "7. How do tuples ensure data integrity in Python?\n",
        "   - Tuples in Python are designed to be immutable, meaning that once they are created, their contents cannot be modified. This immutability ensures data integrity and reliability.\n",
        "\n",
        "8. What is a hash table, and how does it relate to dictionaries in\n",
        "   Python?\n",
        "   - Hash Table : A hash table is a data structure that stores key-value pairs, allowing for efficient retrieval of values based on their associated keys. It uses a hash function to compute an index (called a hash code) for each key, which determines where the corresponding value is stored in the table.\n",
        "\n",
        "   - Relate to Dictionaries :\n",
        "    a) Keys in Python dictionaries are hashed to determine their position in the internal hash table\n",
        "    b) Values are stored at the location determined by the hash of their corresponding keys\n",
        "\n",
        "9. Can lists contain different data types in Python?\n",
        "   - Yes, list contain different data types in python because list is mutable means their content can be modified and also list can store\n",
        "   heterogenous data (like : int, float etc) it means it cna store any data type.\n",
        "\n",
        "10. Explain why strings are immutable in Python.\n",
        "   - In Python, strings are immutable for several reasons the reasons\n",
        "   are :\n",
        "   a) Memory Efficiency: Immutable strings allow Python to reuse memory (string interning) and optimize performance, especially for large programs or repeated string values.\n",
        "   b) Thread Safety: Immutability ensures that strings can be safely shared across threads without the risk of one thread modifying the string while another is using it.\n",
        "   c) Data Integrity: Since strings cannot be modified, it avoids accidental changes and ensures consistency, particularly when used as dictionary keys.\n",
        "\n",
        "11. What advantages do dictionaries offer over lists for certain tasks?\n",
        "   - Dictionaries offer several advantages over lists for certain      tasks these are:\n",
        "   a)Faster Lookups: Dictionaries allow O(1) average time complexity for key lookups, while lists require O(n) for searching.\n",
        "   b)Key-Value Pairing: Dictionaries store data as key-value pairs, making them ideal for mapping data, while lists only store values by index.\n",
        "   c)Uniqueness: Dictionary keys must be unique, ensuring no duplicates, while lists allow repeated values.\n",
        "\n",
        "12.  Describe a scenario where using a tuple would be preferable over  a list.\n",
        "   - Scenario :-\n",
        "   Storing a Unique User Identifier -\n",
        "   Imagine you have a system that generates unique IDs for users when they sign up. These IDs are immutable because once assigned, they should not change to maintain the integrity of user records.\n",
        "   \n",
        "   Example:-\n",
        "\n",
        "   user_id = (12345,);  # A unique identifier for a user, stored as a tuple\n",
        "   print(user_id);\n",
        "\n",
        "13.  How do sets handle duplicate values in Python?\n",
        "   - In Python, sets automatically remove duplicate values. When we add elements to a set, it only stores unique items, and any repeated values are ignored.\n",
        "\n",
        "   Example:\n",
        "\n",
        "   # Creating a set with duplicate values\n",
        "   my_set = {1, 2, 3, 2, 4, 1}\n",
        "   print(my_set)  \n",
        "\n",
        "   # Output: {1, 2, 3, 4}\n",
        "\n",
        "14. How does the “in” keyword work differently for lists and dictionaries?\n",
        "   - In Lists:\n",
        "   When we use \"in\" with a list, Python checks if the specified element exists as a value in the list.\n",
        "\n",
        "   Example:\n",
        "   my_list = [1, 2, 3, 4]\n",
        "   print(3 in my_list)  \n",
        "   print(5 in my_list)\n",
        "\n",
        "   # Output: True\n",
        "   # Output: False\n",
        "\n",
        "   Here, \"in\" checks if the value 3 is in the list and returns \"True\", while it returns \"False\" when checking for the value 5 (which is not in the list).\n",
        "\n",
        "   - In Dictionaries:\n",
        "   When we use \"in\" with a dictionary, Python checks if the specified key exists as a key in the dictionary, not the value.\n",
        "\n",
        "   Example:\n",
        "   my_dict = {'a': 1, 'b': 2, 'c': 3}\n",
        "   print('b' in my_dict)  \n",
        "   print(2 in my_dict)    \n",
        "\n",
        "   # Output: True (checks if 'b' is a key)\n",
        "   # Output: False (checks for key '2', not value)\n",
        "\n",
        "   Here, \"in\" checks if the key 'b' is in the dictionary (returns True), but when checking 2, it looks for the key 2 (not the value 2), so it returns False.\n",
        "\n",
        "15. Can you modify the elements of a tuple? Explain why or why not.\n",
        "   - No, we cannot modify the elements of a tuple.\n",
        "   Because tuples are immutable, meaning that once a tuple is created, its contents cannot be changed.\n",
        "\n",
        "16. What is a nested dictionary, and give an example of its use case?\n",
        "   - A nested dictionary is a dictionary in Python where one or more of the values are themselves dictionaries. This allows you to store complex, hierarchical data structures with multiple levels of key-value pairs.\n",
        "\n",
        "   Example:\n",
        "\n",
        "   Suppose we are managing grades for a group of students, where each student has grades for various subjects, and each subject has different components like assignments, midterms, and final exams.\n",
        "\n",
        "   students_grades = {\n",
        "    'student1': {\n",
        "        'math': {\n",
        "            'assignment': 90,\n",
        "            'midterm': 85,\n",
        "            'final': 92\n",
        "        },\n",
        "        'science': {\n",
        "            'assignment': 88,\n",
        "            'midterm': 91,\n",
        "            'final': 93\n",
        "        }\n",
        "    },\n",
        "    'student2': {\n",
        "        'math': {\n",
        "            'assignment': 85,\n",
        "            'midterm': 80,\n",
        "            'final': 78\n",
        "        },\n",
        "        'science': {\n",
        "            'assignment': 92,\n",
        "            'midterm': 87,\n",
        "            'final': 90\n",
        "        }\n",
        "    }\n",
        "}\n",
        "\n",
        "# Accessing nested dictionary data\n",
        "print(students_grades['student1']['math']['final'])\n",
        "print(students_grades['student2']['science']['midterm'])\n",
        "\n",
        " # Output: 92\n",
        " # Output: 87\n",
        "\n",
        "17.  Describe the time complexity of accessing elements in a dictionary.\n",
        "   - In Python, accessing elements in a dictionary is typically O(1), meaning it takes constant time regardless of the dictionary size. This is because Python dictionaries use a hash table to store key-value pairs, enabling direct access to values based on the hash of the key.\n",
        "\n",
        "   Example:\n",
        "\n",
        "   my_dict = {'apple': 5, 'banana': 3, 'cherry': 7}\n",
        "\n",
        "   # Average case: O(1) time complexity\n",
        "   print(my_dict['banana'])  \n",
        "   \n",
        "   # Output: 3\n",
        "\n",
        "18.  In what situations are lists preferred over dictionaries?\n",
        "   - Lists are preferred over dictionaries when:\n",
        "   a)Order Matters: Lists maintain the order of elements.\n",
        "   b)Indexing by Position: Lists allow access by index, not by key.\n",
        "   c)Homogeneous Data: Lists are ideal for storing similar items (e.g., numbers or strings).\n",
        "   d)Simple Collections: For small datasets, lists are lighter and easier to work with.\n",
        "   e)Iteration: Lists are optimized for iterating over ordered data.\n",
        "\n",
        "19. Why are dictionaries considered unordered, and how does that affect data retrieval?\n",
        "   - Dictionaries in Python are considered unordered because the order of key-value pairs is not guaranteed to be preserved. This is due to how dictionaries are implemented using a hash table. When you add items to a dictionary, Python computes the hash value of the key and stores the pair in an arbitrary location in memory.\n",
        "\n",
        "   - Impact on Data Retrieval:\n",
        "   a) Data retrieval by key: The order of the items does not affect the efficiency of accessing elements by key. Dictionary lookups are O(1) on average, meaning you can retrieve values quickly using keys, regardless of their order in the dictionary.\n",
        "   b) Iteration: If you iterate over the dictionary, the order of the items may not be the same as the order they were inserted. This can be significant when the order is important.\n",
        "\n",
        "20. Explain the difference between a list and a dictionary in terms of data retrieval.\n",
        "   -  List:\n",
        "   a) Data Retrieval by Index: In a list, elements are accessed using an index. The index is an integer representing the position of the element in the list (starting from 0).\n",
        "   b) Ordered: Lists maintain the order of elements, so the index corresponds to the position in the list.\n",
        "   c) Time Complexity: Accessing an element by index in a list is O(1) (constant time) because lists are stored in contiguous memory locations.\n",
        "\n",
        "   - Dictionary:\n",
        "   a) Data Retrieval by Key: In a dictionary, elements are accessed using a key, not an index. Keys can be of various types, such as strings, numbers, or tuples, and they uniquely identify the associated value.\n",
        "   b) Unordered (Prior to Python 3.7): Dictionaries are typically unordered collections, meaning the order of items may not match the order of insertion, although Python 3.7+ dictionaries preserve insertion order.\n",
        "   c) Time Complexity: Accessing a value by key in a dictionary is typically O(1) (constant time) because dictionaries use hash tables for efficient key-value lookup.\n",
        "\n"
      ],
      "metadata": {
        "id": "2-ISHQ_NW2m-"
      }
    },
    {
      "cell_type": "code",
      "source": [
        "# 1. Write a code to create a string with your name and print it.\n",
        "my_name=\"Iman\";\n",
        "print(my_name);"
      ],
      "metadata": {
        "colab": {
          "base_uri": "https://localhost:8080/"
        },
        "id": "SCkh4WnGYeV2",
        "outputId": "8eafc48e-f9c9-4881-d1b2-d39a770ba462"
      },
      "execution_count": null,
      "outputs": [
        {
          "output_type": "stream",
          "name": "stdout",
          "text": [
            "Iman\n"
          ]
        }
      ]
    },
    {
      "cell_type": "code",
      "source": [
        "# 2. Write a code to find the length of the string \"Hello World\".\n",
        "string = \"Hello World\";\n",
        "length = len(string);\n",
        "print(length);\n"
      ],
      "metadata": {
        "colab": {
          "base_uri": "https://localhost:8080/"
        },
        "id": "mItWIBulYtyP",
        "outputId": "5e3c1e64-397b-47a0-b4ab-5a1f500337cc"
      },
      "execution_count": null,
      "outputs": [
        {
          "output_type": "stream",
          "name": "stdout",
          "text": [
            "11\n"
          ]
        }
      ]
    },
    {
      "cell_type": "code",
      "source": [
        "# 3. Write a code to slice the first 3 characters from the string \"Python Programming\".\n",
        "text = \"Python Programming\";\n",
        "sliced_text = text[:3];\n",
        "print(sliced_text);\n",
        "\n"
      ],
      "metadata": {
        "colab": {
          "base_uri": "https://localhost:8080/"
        },
        "id": "Z2ZRU6HqYz52",
        "outputId": "462b1abc-2911-447c-a3b2-3bb05606069d"
      },
      "execution_count": null,
      "outputs": [
        {
          "output_type": "stream",
          "name": "stdout",
          "text": [
            "Pyt\n"
          ]
        }
      ]
    },
    {
      "cell_type": "code",
      "source": [
        "# 4. Write a code to convert the string \"hello\" to uppercase.\n",
        "text = \"hello\"\n",
        "uppercase_text = text.upper()\n",
        "print(uppercase_text)\n"
      ],
      "metadata": {
        "colab": {
          "base_uri": "https://localhost:8080/"
        },
        "id": "1I4JC-W4Y6ZZ",
        "outputId": "e94e1553-5767-42a4-8f89-32933568272f"
      },
      "execution_count": null,
      "outputs": [
        {
          "output_type": "stream",
          "name": "stdout",
          "text": [
            "HELLO\n"
          ]
        }
      ]
    },
    {
      "cell_type": "code",
      "source": [
        "# 5. Write a code to replace the word \"apple\" with \"orange\" in the string \"I like apple\".\n",
        "text = \"I like apple\"\n",
        "updated_text = text.replace(\"apple\", \"orange\")\n",
        "print(updated_text)\n"
      ],
      "metadata": {
        "colab": {
          "base_uri": "https://localhost:8080/"
        },
        "id": "ZkazdUAnY_rc",
        "outputId": "4079fbef-0eb1-448a-cc31-4d2c771a35f2"
      },
      "execution_count": null,
      "outputs": [
        {
          "output_type": "stream",
          "name": "stdout",
          "text": [
            "I like orange\n"
          ]
        }
      ]
    },
    {
      "cell_type": "code",
      "source": [
        "# 6. Write a code to create a list with numbers 1 to 5 and print it.\n",
        "my_list = list(range(1, 6))\n",
        "print(my_list)"
      ],
      "metadata": {
        "colab": {
          "base_uri": "https://localhost:8080/"
        },
        "id": "akX9fILTZF3c",
        "outputId": "394de12b-a61f-4761-d218-0c39cf311a3b"
      },
      "execution_count": null,
      "outputs": [
        {
          "output_type": "stream",
          "name": "stdout",
          "text": [
            "[1, 2, 3, 4, 5]\n"
          ]
        }
      ]
    },
    {
      "cell_type": "code",
      "source": [
        "# 7. Write a code to append the number 10 to the list [1, 2, 3, 4].\n",
        "my_list = [1, 2, 3, 4]\n",
        "my_list.append(10)\n",
        "print(my_list)\n"
      ],
      "metadata": {
        "colab": {
          "base_uri": "https://localhost:8080/"
        },
        "id": "IikCuL4cZNEt",
        "outputId": "61aec315-f8f9-479d-d8cb-9ef1b950091a"
      },
      "execution_count": null,
      "outputs": [
        {
          "output_type": "stream",
          "name": "stdout",
          "text": [
            "[1, 2, 3, 4, 10]\n"
          ]
        }
      ]
    },
    {
      "cell_type": "code",
      "source": [
        "# 8. Write a code to remove the number 3 from the list [1, 2, 3, 4, 5].\n",
        "my_list = [1, 2, 3, 4, 5]\n",
        "my_list.remove(3)\n",
        "print(my_list)"
      ],
      "metadata": {
        "colab": {
          "base_uri": "https://localhost:8080/"
        },
        "id": "rG1UuBHYZTcj",
        "outputId": "d940f931-586d-43a9-f174-e9eecbdc458b"
      },
      "execution_count": null,
      "outputs": [
        {
          "output_type": "stream",
          "name": "stdout",
          "text": [
            "[1, 2, 4, 5]\n"
          ]
        }
      ]
    },
    {
      "cell_type": "code",
      "source": [
        "# 9. Write a code to access the second element in the list ['a', 'b', 'c', 'd'].\n",
        "my_list = ['a', 'b', 'c', 'd']\n",
        "second_element = my_list[1]\n",
        "print(second_element)"
      ],
      "metadata": {
        "colab": {
          "base_uri": "https://localhost:8080/"
        },
        "id": "rXco1KjxZoDs",
        "outputId": "572f8d13-2014-4962-daee-2e0faf9a057e"
      },
      "execution_count": null,
      "outputs": [
        {
          "output_type": "stream",
          "name": "stdout",
          "text": [
            "b\n"
          ]
        }
      ]
    },
    {
      "cell_type": "code",
      "source": [
        "# 10. Write a code to reverse the list [10, 20, 30, 40, 50].\n",
        "my_list = [10, 20, 30, 40, 50]\n",
        "my_list.reverse()\n",
        "print(my_list)"
      ],
      "metadata": {
        "colab": {
          "base_uri": "https://localhost:8080/"
        },
        "id": "PKjTe5G7Zt7Z",
        "outputId": "6bcb6036-12ad-4dc0-ccf1-6832d316b514"
      },
      "execution_count": null,
      "outputs": [
        {
          "output_type": "stream",
          "name": "stdout",
          "text": [
            "[50, 40, 30, 20, 10]\n"
          ]
        }
      ]
    },
    {
      "cell_type": "code",
      "source": [
        "# 11. . Write a code to create a tuple with the elements 100, 200, 300 and print it.\n",
        "my_tuple = (100, 200, 300)\n",
        "print(my_tuple)"
      ],
      "metadata": {
        "colab": {
          "base_uri": "https://localhost:8080/"
        },
        "id": "Htjuo7z1Z3Bi",
        "outputId": "86e45c70-5641-448e-af37-0d8955f21926"
      },
      "execution_count": null,
      "outputs": [
        {
          "output_type": "stream",
          "name": "stdout",
          "text": [
            "(100, 200, 300)\n"
          ]
        }
      ]
    },
    {
      "cell_type": "code",
      "source": [
        "# 12. Write a code to access the second-to-last element of the tuple ('red', 'green', 'blue', 'yellow').\n",
        "my_tuple = ('red', 'green', 'blue', 'yellow')\n",
        "second_to_last_element = my_tuple[-2]\n",
        "print(second_to_last_element)"
      ],
      "metadata": {
        "id": "UIG0XGDuZ9ny",
        "colab": {
          "base_uri": "https://localhost:8080/"
        },
        "outputId": "8b612edb-5f59-4ee1-96d9-46a4db088363"
      },
      "execution_count": 13,
      "outputs": [
        {
          "output_type": "stream",
          "name": "stdout",
          "text": [
            "blue\n"
          ]
        }
      ]
    },
    {
      "cell_type": "code",
      "source": [
        "# 13.  Write a code to find the minimum number in the tuple (10, 20, 5, 15).\n",
        "my_tuple = (10, 20, 5, 15)\n",
        "minimum_number = min(my_tuple)\n",
        "print(minimum_number)"
      ],
      "metadata": {
        "id": "AW9we090aXnl",
        "colab": {
          "base_uri": "https://localhost:8080/"
        },
        "outputId": "9d9a00c9-0852-41bb-827d-e53b5eb207c9"
      },
      "execution_count": 14,
      "outputs": [
        {
          "output_type": "stream",
          "name": "stdout",
          "text": [
            "5\n"
          ]
        }
      ]
    },
    {
      "cell_type": "code",
      "source": [
        "# 14.  Write a code to find the index of the element \"cat\" in the tuple ('dog', 'cat', 'rabbit').\n",
        "my_tuple = ('dog', 'cat', 'rabbit')\n",
        "index_of_cat = my_tuple.index('cat')\n",
        "print(index_of_cat)"
      ],
      "metadata": {
        "id": "ZGYVb2fnbEMV",
        "colab": {
          "base_uri": "https://localhost:8080/"
        },
        "outputId": "c00477cf-7d0a-4e6b-a861-40b751198fec"
      },
      "execution_count": 15,
      "outputs": [
        {
          "output_type": "stream",
          "name": "stdout",
          "text": [
            "1\n"
          ]
        }
      ]
    },
    {
      "cell_type": "code",
      "source": [
        "# 15. Write a code to create a tuple containing three different fruits and check if \"kiwi\" is in it.\n",
        "fruits_tuple = (\"apple\", \"banana\", \"orange\")\n",
        "is_kiwi_in_tuple = \"kiwi\" in fruits_tuple\n",
        "print(is_kiwi_in_tuple)"
      ],
      "metadata": {
        "id": "P-88Jp1qbJE4",
        "colab": {
          "base_uri": "https://localhost:8080/"
        },
        "outputId": "b30fc001-68ec-4f5b-9cb4-04cd683c4e7c"
      },
      "execution_count": 16,
      "outputs": [
        {
          "output_type": "stream",
          "name": "stdout",
          "text": [
            "False\n"
          ]
        }
      ]
    },
    {
      "cell_type": "code",
      "source": [
        "# 16.  Write a code to create a set with the elements 'a', 'b', 'c' and print it.\n",
        "my_set = {'a', 'b', 'c'}\n",
        "print(my_set)"
      ],
      "metadata": {
        "id": "k-sYwPRrbQ7P",
        "colab": {
          "base_uri": "https://localhost:8080/"
        },
        "outputId": "34e8c48c-1908-41f9-b475-80d54cbff04f"
      },
      "execution_count": 17,
      "outputs": [
        {
          "output_type": "stream",
          "name": "stdout",
          "text": [
            "{'a', 'c', 'b'}\n"
          ]
        }
      ]
    },
    {
      "cell_type": "code",
      "source": [
        "# 17. Write a code to clear all elements from the set {1, 2, 3, 4, 5}.\n",
        "my_set = {1, 2, 3, 4, 5}\n",
        "my_set.clear()\n",
        "print(my_set)"
      ],
      "metadata": {
        "id": "znZeJe-Wbcau",
        "colab": {
          "base_uri": "https://localhost:8080/"
        },
        "outputId": "da2eebd2-4eb3-457b-8a88-47055da2f0c9"
      },
      "execution_count": 18,
      "outputs": [
        {
          "output_type": "stream",
          "name": "stdout",
          "text": [
            "set()\n"
          ]
        }
      ]
    },
    {
      "cell_type": "code",
      "source": [
        "# 18. Write a code to remove the element 4 from the set {1, 2, 3, 4}.\n",
        "my_set = {1, 2, 3, 4}\n",
        "my_set.remove(4)\n",
        "print(my_set)"
      ],
      "metadata": {
        "id": "YfYyV_ZXbkbB",
        "colab": {
          "base_uri": "https://localhost:8080/"
        },
        "outputId": "325d0fdb-aafd-4d5e-c37e-c13dae40fb4e"
      },
      "execution_count": 19,
      "outputs": [
        {
          "output_type": "stream",
          "name": "stdout",
          "text": [
            "{1, 2, 3}\n"
          ]
        }
      ]
    },
    {
      "cell_type": "code",
      "source": [
        "# 19.  Write a code to find the union of two sets {1, 2, 3} and {3, 4, 5}.\n",
        "set1 = {1, 2, 3}\n",
        "set2 = {3, 4, 5}\n",
        "union_set = set1.union(set2)\n",
        "print(union_set)"
      ],
      "metadata": {
        "id": "WksrWFsDbqRG",
        "colab": {
          "base_uri": "https://localhost:8080/"
        },
        "outputId": "828b665f-7bc4-4b05-91f0-d004bd186ae2"
      },
      "execution_count": 20,
      "outputs": [
        {
          "output_type": "stream",
          "name": "stdout",
          "text": [
            "{1, 2, 3, 4, 5}\n"
          ]
        }
      ]
    },
    {
      "cell_type": "code",
      "source": [
        "# 20.  Write a code to find the intersection of two sets {1, 2, 3} and {2, 3, 4}.\n",
        "set1 = {1, 2, 3}\n",
        "set2 = {2, 3, 4}\n",
        "intersection_set = set1.intersection(set2)\n",
        "print(intersection_set)"
      ],
      "metadata": {
        "id": "VOHyJKoEbyLT",
        "colab": {
          "base_uri": "https://localhost:8080/"
        },
        "outputId": "d5b8917e-449a-42a0-cb3a-11128074be90"
      },
      "execution_count": 21,
      "outputs": [
        {
          "output_type": "stream",
          "name": "stdout",
          "text": [
            "{2, 3}\n"
          ]
        }
      ]
    },
    {
      "cell_type": "code",
      "source": [
        "# 21. Write a code to create a dictionary with the keys \"name\", \"age\", and \"city\", and print it.\n",
        "my_dict = {\n",
        "    \"name\": \"John\",\n",
        "    \"age\": 25,\n",
        "    \"city\": \"New York\"\n",
        "}\n",
        "print(my_dict)"
      ],
      "metadata": {
        "id": "4oo-Q4sfb2aQ",
        "colab": {
          "base_uri": "https://localhost:8080/"
        },
        "outputId": "1b00da13-d102-4571-ea05-c9d6a20490d7"
      },
      "execution_count": 22,
      "outputs": [
        {
          "output_type": "stream",
          "name": "stdout",
          "text": [
            "{'name': 'John', 'age': 25, 'city': 'New York'}\n"
          ]
        }
      ]
    },
    {
      "cell_type": "code",
      "source": [
        "# 22.  Write a code to add a new key-value pair \"country\": \"USA\" to the dictionary {'name': 'John', 'age': 25}.\n",
        "my_dict = {'name': 'John', 'age': 25}\n",
        "my_dict[\"country\"] = \"USA\"\n",
        "print(my_dict)"
      ],
      "metadata": {
        "id": "WGkHWw-Ob8HA",
        "colab": {
          "base_uri": "https://localhost:8080/"
        },
        "outputId": "ce5b3d30-ded5-490e-aff9-e7d4f459bcd4"
      },
      "execution_count": 23,
      "outputs": [
        {
          "output_type": "stream",
          "name": "stdout",
          "text": [
            "{'name': 'John', 'age': 25, 'country': 'USA'}\n"
          ]
        }
      ]
    },
    {
      "cell_type": "code",
      "source": [
        "# 23. Write a code to access the value associated with the key \"name\" in the dictionary {'name': 'Alice', 'age': 30}.\n",
        "my_dict = {'name': 'Alice', 'age': 30}\n",
        "name_value = my_dict[\"name\"]\n",
        "print(name_value)\n"
      ],
      "metadata": {
        "id": "7SbbbXvocLSW",
        "colab": {
          "base_uri": "https://localhost:8080/"
        },
        "outputId": "93a0a2f8-36d5-4c35-9ff0-973373e3df34"
      },
      "execution_count": 24,
      "outputs": [
        {
          "output_type": "stream",
          "name": "stdout",
          "text": [
            "Alice\n"
          ]
        }
      ]
    },
    {
      "cell_type": "code",
      "source": [
        "# 24. Write a code to remove the key \"age\" from the dictionary {'name': 'Bob', 'age': 22, 'city': 'New York'}.\n",
        "\n",
        "my_dict = {'name': 'Bob', 'age': 22, 'city': 'New York'}\n",
        "del my_dict[\"age\"]\n",
        "print(my_dict)"
      ],
      "metadata": {
        "id": "j40vkN0HcPd-",
        "colab": {
          "base_uri": "https://localhost:8080/"
        },
        "outputId": "5f52f7ec-6afb-4e17-a013-43be54250dea"
      },
      "execution_count": 25,
      "outputs": [
        {
          "output_type": "stream",
          "name": "stdout",
          "text": [
            "{'name': 'Bob', 'city': 'New York'}\n"
          ]
        }
      ]
    },
    {
      "cell_type": "code",
      "source": [
        "# 25. Write a code to check if the key \"city\" exists in the dictionary {'name': 'Alice', 'city': 'Paris'}.\n",
        "my_dict = {'name': 'Alice', 'city': 'Paris'}\n",
        "city_exists = \"city\" in my_dict\n",
        "print(city_exists)\n"
      ],
      "metadata": {
        "id": "qlNXvS_GcUd5",
        "colab": {
          "base_uri": "https://localhost:8080/"
        },
        "outputId": "1205640e-de7c-4808-fd44-1f6ec075ee26"
      },
      "execution_count": 26,
      "outputs": [
        {
          "output_type": "stream",
          "name": "stdout",
          "text": [
            "True\n"
          ]
        }
      ]
    },
    {
      "cell_type": "code",
      "source": [
        "# 26. Write a code to create a list, a tuple, and a dictionary, and print them all.\n",
        "\n",
        "# Create a list\n",
        "my_list = [1, 2, 3, 'a', 'b', 'c']\n",
        "\n",
        "# Create a tuple\n",
        "my_tuple = (10, 20, 30, 'x', 'y', 'z')\n",
        "\n",
        "# Create a dictionary\n",
        "my_dict = {'name': 'Alice', 'age': 30, 'city': 'New York'}\n",
        "\n",
        "# Print all three data structures\n",
        "print(\"List:\", my_list)\n",
        "print(\"Tuple:\", my_tuple)\n",
        "print(\"Dictionary:\", my_dict)"
      ],
      "metadata": {
        "id": "Si2jAGy9cYl2",
        "colab": {
          "base_uri": "https://localhost:8080/"
        },
        "outputId": "5b1def95-90b1-4057-d564-d60221b48658"
      },
      "execution_count": 27,
      "outputs": [
        {
          "output_type": "stream",
          "name": "stdout",
          "text": [
            "List: [1, 2, 3, 'a', 'b', 'c']\n",
            "Tuple: (10, 20, 30, 'x', 'y', 'z')\n",
            "Dictionary: {'name': 'Alice', 'age': 30, 'city': 'New York'}\n"
          ]
        }
      ]
    },
    {
      "cell_type": "code",
      "source": [
        "# 27. Write a code to create a list of 5 random numbers between 1 and 100, sort it in ascending order, and print the result.(replaced)\n",
        "\n",
        "import random\n",
        "\n",
        "# Generate 5 random numbers between 1 and 100\n",
        "random_numbers = random.sample(range(1, 101), 5)\n",
        "\n",
        "# Sort the list in ascending order\n",
        "random_numbers.sort()\n",
        "\n",
        "# Print the sorted list\n",
        "print(random_numbers)\n",
        "\n"
      ],
      "metadata": {
        "id": "6IIBIjmGccds",
        "colab": {
          "base_uri": "https://localhost:8080/"
        },
        "outputId": "c7b5a2e9-6e31-4334-bc46-3291aeb3ee4e"
      },
      "execution_count": 28,
      "outputs": [
        {
          "output_type": "stream",
          "name": "stdout",
          "text": [
            "[10, 50, 59, 73, 85]\n"
          ]
        }
      ]
    },
    {
      "cell_type": "code",
      "source": [
        "# 28.  Write a code to create a list with strings and print the element at the third index.\n",
        "my_list = [\"apple\", \"banana\", \"orange\", \"grape\", \"kiwi\"]\n",
        "third_element = my_list[2]  # Accessing the element at index 2 (third element)\n",
        "print(third_element)\n"
      ],
      "metadata": {
        "id": "VNail13hckAG",
        "colab": {
          "base_uri": "https://localhost:8080/"
        },
        "outputId": "9887e884-a779-46d8-9429-5e66ee0d7a90"
      },
      "execution_count": 29,
      "outputs": [
        {
          "output_type": "stream",
          "name": "stdout",
          "text": [
            "orange\n"
          ]
        }
      ]
    },
    {
      "cell_type": "code",
      "source": [
        "# 29. Write a code to combine two dictionaries into one and print the result.\n",
        "dict1 = {'a': 1, 'b': 2}\n",
        "dict2 = {'c': 3, 'd': 4}\n",
        "\n",
        "# Method 1: Using the update() method\n",
        "dict1.update(dict2)\n",
        "print(dict1)  # Output: {'a': 1, 'b': 2, 'c': 3, 'd': 4}\n",
        "\n",
        "\n",
        "# Method 2: Using the ** operator (Python 3.5+)\n",
        "combined_dict = {**dict1, **dict2}\n",
        "print(combined_dict)\n"
      ],
      "metadata": {
        "id": "GgjtK7jfcr5p",
        "colab": {
          "base_uri": "https://localhost:8080/"
        },
        "outputId": "4e25ad46-526e-48ee-bdf8-e269bb40649d"
      },
      "execution_count": 30,
      "outputs": [
        {
          "output_type": "stream",
          "name": "stdout",
          "text": [
            "{'a': 1, 'b': 2, 'c': 3, 'd': 4}\n",
            "{'a': 1, 'b': 2, 'c': 3, 'd': 4}\n"
          ]
        }
      ]
    },
    {
      "cell_type": "code",
      "source": [
        "# 30.  Write a code to convert a list of strings into a set.\n",
        "string_list = [\"apple\", \"banana\", \"orange\", \"apple\", \"banana\"]\n",
        "string_set = set(string_list)\n",
        "print(string_set)\n"
      ],
      "metadata": {
        "id": "7dWGvc2Rcwr5",
        "colab": {
          "base_uri": "https://localhost:8080/"
        },
        "outputId": "28d81ceb-b116-4feb-a7a4-5213481adc2d"
      },
      "execution_count": 31,
      "outputs": [
        {
          "output_type": "stream",
          "name": "stdout",
          "text": [
            "{'banana', 'apple', 'orange'}\n"
          ]
        }
      ]
    }
  ]
}